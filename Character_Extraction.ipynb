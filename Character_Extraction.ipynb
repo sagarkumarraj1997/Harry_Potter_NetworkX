{
 "cells": [
  {
   "cell_type": "code",
   "execution_count": 12,
   "id": "fd6c30b7-a136-4555-81a5-d250947c5974",
   "metadata": {
    "tags": []
   },
   "outputs": [],
   "source": [
    "import pandas as pd\n",
    "import time\n",
    "from selenium import webdriver\n",
    "from webdriver_manager.chrome import ChromeDriverManager"
   ]
  },
  {
   "cell_type": "code",
   "execution_count": 13,
   "id": "7d8968c6-e0f3-4246-98dc-71315d4d70d7",
   "metadata": {
    "collapsed": true,
    "jupyter": {
     "outputs_hidden": true
    },
    "tags": []
   },
   "outputs": [
    {
     "name": "stdout",
     "output_type": "stream",
     "text": [
      "\n"
     ]
    },
    {
     "name": "stderr",
     "output_type": "stream",
     "text": [
      "[WDM] - ====== WebDriver manager ======\n"
     ]
    },
    {
     "name": "stdout",
     "output_type": "stream",
     "text": [
      "2022-07-09 06:04:46,511 INFO ====== WebDriver manager ======\n"
     ]
    },
    {
     "name": "stderr",
     "output_type": "stream",
     "text": [
      "[WDM] - Current google-chrome version is 103.0.5060\n"
     ]
    },
    {
     "name": "stdout",
     "output_type": "stream",
     "text": [
      "2022-07-09 06:04:46,530 INFO Current google-chrome version is 103.0.5060\n"
     ]
    },
    {
     "name": "stderr",
     "output_type": "stream",
     "text": [
      "[WDM] - Get LATEST chromedriver version for 103.0.5060 google-chrome\n"
     ]
    },
    {
     "name": "stdout",
     "output_type": "stream",
     "text": [
      "2022-07-09 06:04:46,531 INFO Get LATEST chromedriver version for 103.0.5060 google-chrome\n"
     ]
    },
    {
     "name": "stderr",
     "output_type": "stream",
     "text": [
      "[WDM] - Driver [C:\\Users\\Lenovo\\.wdm\\drivers\\chromedriver\\win32\\103.0.5060.53\\chromedriver.exe] found in cache\n"
     ]
    },
    {
     "name": "stdout",
     "output_type": "stream",
     "text": [
      "2022-07-09 06:04:46,656 INFO Driver [C:\\Users\\Lenovo\\.wdm\\drivers\\chromedriver\\win32\\103.0.5060.53\\chromedriver.exe] found in cache\n"
     ]
    },
    {
     "name": "stderr",
     "output_type": "stream",
     "text": [
      "C:\\Users\\Public\\Documents\\Wondershare\\CreatorTemp\\ipykernel_10528\\1503906442.py:1: DeprecationWarning: executable_path has been deprecated, please pass in a Service object\n",
      "  driver = webdriver.Chrome(ChromeDriverManager().install())\n"
     ]
    }
   ],
   "source": [
    "driver = webdriver.Chrome(ChromeDriverManager().install())"
   ]
  },
  {
   "cell_type": "code",
   "execution_count": 23,
   "id": "9851f8cb-5b14-4207-8ada-ad28183c6568",
   "metadata": {},
   "outputs": [],
   "source": [
    "page_url = \"https://harrypotter.fandom.com/wiki/Category:Individuals\"\n",
    "driver.get(page_url)"
   ]
  },
  {
   "cell_type": "code",
   "execution_count": 24,
   "id": "7ceb867d-844c-467d-ba8e-bc2381bcd7e3",
   "metadata": {},
   "outputs": [],
   "source": [
    "from selenium.webdriver.common.by import By\n",
    "\n",
    "#CLASS_NAME = \n",
    "book_categories = driver.find_elements(By.CLASS_NAME, 'category-page__member-link')                    "
   ]
  },
  {
   "cell_type": "code",
   "execution_count": 26,
   "id": "9901417c-01c9-43e4-86b7-bfc2212abf3a",
   "metadata": {
    "tags": []
   },
   "outputs": [
    {
     "data": {
      "text/plain": [
       "'Category:Impersonated individuals'"
      ]
     },
     "execution_count": 26,
     "metadata": {},
     "output_type": "execute_result"
    }
   ],
   "source": [
    "book_categories[6].text"
   ]
  },
  {
   "cell_type": "code",
   "execution_count": 28,
   "id": "c44477e3-cd1a-40ce-9e63-6aaf8250303b",
   "metadata": {},
   "outputs": [
    {
     "data": {
      "text/plain": [
       "'https://harrypotter.fandom.com/wiki/Category:Impersonated_individuals'"
      ]
     },
     "execution_count": 28,
     "metadata": {},
     "output_type": "execute_result"
    }
   ],
   "source": [
    "book_categories[6].get_attribute('href')"
   ]
  },
  {
   "cell_type": "code",
   "execution_count": 29,
   "id": "6aaddc94-485f-4d4c-9da5-9f24c48b1e6b",
   "metadata": {},
   "outputs": [],
   "source": [
    "driver.get(book_categories[6].get_attribute('href'))"
   ]
  },
  {
   "cell_type": "code",
   "execution_count": 33,
   "id": "75d6d8ed-be28-4a72-9358-fc74728783ec",
   "metadata": {},
   "outputs": [],
   "source": [
    "characters = driver.find_elements(By.CLASS_NAME, 'category-page__member-link') "
   ]
  },
  {
   "cell_type": "code",
   "execution_count": 35,
   "id": "109cb8a0-a9cd-48f8-a57c-f49d99f201b1",
   "metadata": {
    "collapsed": true,
    "jupyter": {
     "outputs_hidden": true
    },
    "tags": []
   },
   "outputs": [
    {
     "name": "stdout",
     "output_type": "stream",
     "text": [
      "\n"
     ]
    },
    {
     "name": "stderr",
     "output_type": "stream",
     "text": [
      "[WDM] - ====== WebDriver manager ======\n"
     ]
    },
    {
     "name": "stdout",
     "output_type": "stream",
     "text": [
      "2022-07-09 06:25:09,968 INFO ====== WebDriver manager ======\n"
     ]
    },
    {
     "name": "stderr",
     "output_type": "stream",
     "text": [
      "[WDM] - Current google-chrome version is 103.0.5060\n"
     ]
    },
    {
     "name": "stdout",
     "output_type": "stream",
     "text": [
      "2022-07-09 06:25:09,973 INFO Current google-chrome version is 103.0.5060\n"
     ]
    },
    {
     "name": "stderr",
     "output_type": "stream",
     "text": [
      "[WDM] - Get LATEST chromedriver version for 103.0.5060 google-chrome\n"
     ]
    },
    {
     "name": "stdout",
     "output_type": "stream",
     "text": [
      "2022-07-09 06:25:09,975 INFO Get LATEST chromedriver version for 103.0.5060 google-chrome\n"
     ]
    },
    {
     "name": "stderr",
     "output_type": "stream",
     "text": [
      "[WDM] - Driver [C:\\Users\\Lenovo\\.wdm\\drivers\\chromedriver\\win32\\103.0.5060.53\\chromedriver.exe] found in cache\n"
     ]
    },
    {
     "name": "stdout",
     "output_type": "stream",
     "text": [
      "2022-07-09 06:25:10,097 INFO Driver [C:\\Users\\Lenovo\\.wdm\\drivers\\chromedriver\\win32\\103.0.5060.53\\chromedriver.exe] found in cache\n"
     ]
    },
    {
     "name": "stderr",
     "output_type": "stream",
     "text": [
      "C:\\Users\\Public\\Documents\\Wondershare\\CreatorTemp\\ipykernel_10528\\3839511025.py:1: DeprecationWarning: executable_path has been deprecated, please pass in a Service object\n",
      "  driver = webdriver.Chrome(ChromeDriverManager().install())\n"
     ]
    }
   ],
   "source": [
    "driver = webdriver.Chrome(ChromeDriverManager().install())\n",
    "\n",
    "page_url = \"https://harrypotter.fandom.com/wiki/Category:Individuals\"\n",
    "driver.get(page_url)\n",
    "\n",
    "book_categories = driver.find_elements(By.CLASS_NAME, 'category-page__member-link')      \n",
    "\n",
    "books = []\n",
    "for category in book_categories:\n",
    "    book_url = category.get_attribute('href')\n",
    "    book_name = category.text\n",
    "    books.append({'book_name': book_name, \"url\": book_url})"
   ]
  },
  {
   "cell_type": "code",
   "execution_count": 37,
   "id": "bd484622-3f38-478b-a120-13d06f31aecd",
   "metadata": {
    "collapsed": true,
    "jupyter": {
     "outputs_hidden": true
    },
    "tags": []
   },
   "outputs": [
    {
     "data": {
      "text/plain": [
       "[{'book_name': 'Template:Individual infobox test',\n",
       "  'url': 'https://harrypotter.fandom.com/wiki/Template:Individual_infobox_test'},\n",
       " {'book_name': 'Category:Deceased individuals',\n",
       "  'url': 'https://harrypotter.fandom.com/wiki/Category:Deceased_individuals'},\n",
       " {'book_name': 'Category:Deities',\n",
       "  'url': 'https://harrypotter.fandom.com/wiki/Category:Deities'},\n",
       " {'book_name': 'Category:Disowned individuals',\n",
       "  'url': 'https://harrypotter.fandom.com/wiki/Category:Disowned_individuals'},\n",
       " {'book_name': 'Category:Fictional characters',\n",
       "  'url': 'https://harrypotter.fandom.com/wiki/Category:Fictional_characters'},\n",
       " {'book_name': 'Category:Homosexuals',\n",
       "  'url': 'https://harrypotter.fandom.com/wiki/Category:Homosexuals'},\n",
       " {'book_name': 'Category:Impersonated individuals',\n",
       "  'url': 'https://harrypotter.fandom.com/wiki/Category:Impersonated_individuals'},\n",
       " {'book_name': 'Category:Individuals by house',\n",
       "  'url': 'https://harrypotter.fandom.com/wiki/Category:Individuals_by_house'},\n",
       " {'book_name': 'Category:Individuals by physical characteristics',\n",
       "  'url': 'https://harrypotter.fandom.com/wiki/Category:Individuals_by_physical_characteristics'},\n",
       " {'book_name': 'Category:Individuals with shortened names',\n",
       "  'url': 'https://harrypotter.fandom.com/wiki/Category:Individuals_with_shortened_names'},\n",
       " {'book_name': 'Category:Individuals by ability',\n",
       "  'url': 'https://harrypotter.fandom.com/wiki/Category:Individuals_by_ability'},\n",
       " {'book_name': 'Category:Individuals by achievement',\n",
       "  'url': 'https://harrypotter.fandom.com/wiki/Category:Individuals_by_achievement'},\n",
       " {'book_name': 'Category:Individuals by allegiance',\n",
       "  'url': 'https://harrypotter.fandom.com/wiki/Category:Individuals_by_allegiance'},\n",
       " {'book_name': 'Category:Individuals by class',\n",
       "  'url': 'https://harrypotter.fandom.com/wiki/Category:Individuals_by_class'},\n",
       " {'book_name': 'Category:Individuals by deed',\n",
       "  'url': 'https://harrypotter.fandom.com/wiki/Category:Individuals_by_deed'},\n",
       " {'book_name': 'Category:Individuals by era',\n",
       "  'url': 'https://harrypotter.fandom.com/wiki/Category:Individuals_by_era'},\n",
       " {'book_name': 'Category:Individuals by gender',\n",
       "  'url': 'https://harrypotter.fandom.com/wiki/Category:Individuals_by_gender'},\n",
       " {'book_name': 'Category:Individuals by injury',\n",
       "  'url': 'https://harrypotter.fandom.com/wiki/Category:Individuals_by_injury'},\n",
       " {'book_name': 'Category:Individuals by job',\n",
       "  'url': 'https://harrypotter.fandom.com/wiki/Category:Individuals_by_job'},\n",
       " {'book_name': 'Category:Individuals by marital status',\n",
       "  'url': 'https://harrypotter.fandom.com/wiki/Category:Individuals_by_marital_status'},\n",
       " {'book_name': 'Category:Individuals by parentage',\n",
       "  'url': 'https://harrypotter.fandom.com/wiki/Category:Individuals_by_parentage'},\n",
       " {'book_name': 'Category:Individuals by place of origin',\n",
       "  'url': 'https://harrypotter.fandom.com/wiki/Category:Individuals_by_place_of_origin'},\n",
       " {'book_name': 'Category:Individuals by place of residence',\n",
       "  'url': 'https://harrypotter.fandom.com/wiki/Category:Individuals_by_place_of_residence'},\n",
       " {'book_name': 'Category:Individuals by relationship',\n",
       "  'url': 'https://harrypotter.fandom.com/wiki/Category:Individuals_by_relationship'},\n",
       " {'book_name': 'Category:Individuals by school',\n",
       "  'url': 'https://harrypotter.fandom.com/wiki/Category:Individuals_by_school'},\n",
       " {'book_name': 'Category:Individuals by species',\n",
       "  'url': 'https://harrypotter.fandom.com/wiki/Category:Individuals_by_species'},\n",
       " {'book_name': 'Category:Missing individuals',\n",
       "  'url': 'https://harrypotter.fandom.com/wiki/Category:Missing_individuals'},\n",
       " {'book_name': 'Category:Unidentified individuals',\n",
       "  'url': 'https://harrypotter.fandom.com/wiki/Category:Unidentified_individuals'},\n",
       " {'book_name': 'Category:Character stubs',\n",
       "  'url': 'https://harrypotter.fandom.com/wiki/Category:Character_stubs'}]"
      ]
     },
     "execution_count": 37,
     "metadata": {},
     "output_type": "execute_result"
    }
   ],
   "source": [
    "books"
   ]
  },
  {
   "cell_type": "code",
   "execution_count": 38,
   "id": "efa97f89-d1a9-4c5d-a0d3-63e81274a0b7",
   "metadata": {
    "collapsed": true,
    "jupyter": {
     "outputs_hidden": true
    },
    "tags": []
   },
   "outputs": [
    {
     "ename": "WebDriverException",
     "evalue": "Message: unknown error: unexpected command response\n  (Session info: chrome=103.0.5060.114)\nStacktrace:\nBacktrace:\n\tOrdinal0 [0x005E6463+2188387]\n\tOrdinal0 [0x0057E461+1762401]\n\tOrdinal0 [0x00493D78+802168]\n\tOrdinal0 [0x00487210+750096]\n\tOrdinal0 [0x0048675A+747354]\n\tOrdinal0 [0x00485D3F+744767]\n\tOrdinal0 [0x0048557C+742780]\n\tOrdinal0 [0x00499BF3+826355]\n\tOrdinal0 [0x004ECF6D+1167213]\n\tOrdinal0 [0x004DC5F6+1099254]\n\tOrdinal0 [0x004B6BE0+945120]\n\tOrdinal0 [0x004B7AD6+948950]\n\tGetHandleVerifier [0x008871F2+2712546]\n\tGetHandleVerifier [0x0087886D+2652765]\n\tGetHandleVerifier [0x0067002A+520730]\n\tGetHandleVerifier [0x0066EE06+516086]\n\tOrdinal0 [0x0058468B+1787531]\n\tOrdinal0 [0x00588E88+1805960]\n\tOrdinal0 [0x00588F75+1806197]\n\tOrdinal0 [0x00591DF1+1842673]\n\tBaseThreadInitThunk [0x7711FA29+25]\n\tRtlGetAppContainerNamedObjectPath [0x77A47A9E+286]\n\tRtlGetAppContainerNamedObjectPath [0x77A47A6E+238]\n",
     "output_type": "error",
     "traceback": [
      "\u001b[1;31m---------------------------------------------------------------------------\u001b[0m",
      "\u001b[1;31mWebDriverException\u001b[0m                        Traceback (most recent call last)",
      "Input \u001b[1;32mIn [38]\u001b[0m, in \u001b[0;36m<cell line: 3>\u001b[1;34m()\u001b[0m\n\u001b[0;32m      1\u001b[0m character_list \u001b[38;5;241m=\u001b[39m []\n\u001b[0;32m      3\u001b[0m \u001b[38;5;28;01mfor\u001b[39;00m book \u001b[38;5;129;01min\u001b[39;00m books:\n\u001b[1;32m----> 4\u001b[0m     \u001b[43mdriver\u001b[49m\u001b[38;5;241;43m.\u001b[39;49m\u001b[43mget\u001b[49m\u001b[43m(\u001b[49m\u001b[43mbook\u001b[49m\u001b[43m[\u001b[49m\u001b[38;5;124;43m'\u001b[39;49m\u001b[38;5;124;43murl\u001b[39;49m\u001b[38;5;124;43m'\u001b[39;49m\u001b[43m]\u001b[49m\u001b[43m)\u001b[49m\n\u001b[0;32m      6\u001b[0m     characters \u001b[38;5;241m=\u001b[39m driver\u001b[38;5;241m.\u001b[39mfind_elements(By\u001b[38;5;241m.\u001b[39mCLASS_NAME, \u001b[38;5;124m'\u001b[39m\u001b[38;5;124mcategory-page__member-link\u001b[39m\u001b[38;5;124m'\u001b[39m)\n\u001b[0;32m      8\u001b[0m     \u001b[38;5;28;01mfor\u001b[39;00m elem \u001b[38;5;129;01min\u001b[39;00m characters:\n",
      "File \u001b[1;32m~\\AppData\\Local\\Programs\\Python\\Python310\\lib\\site-packages\\selenium\\webdriver\\remote\\webdriver.py:447\u001b[0m, in \u001b[0;36mWebDriver.get\u001b[1;34m(self, url)\u001b[0m\n\u001b[0;32m    443\u001b[0m \u001b[38;5;28;01mdef\u001b[39;00m \u001b[38;5;21mget\u001b[39m(\u001b[38;5;28mself\u001b[39m, url: \u001b[38;5;28mstr\u001b[39m) \u001b[38;5;241m-\u001b[39m\u001b[38;5;241m>\u001b[39m \u001b[38;5;28;01mNone\u001b[39;00m:\n\u001b[0;32m    444\u001b[0m     \u001b[38;5;124;03m\"\"\"\u001b[39;00m\n\u001b[0;32m    445\u001b[0m \u001b[38;5;124;03m    Loads a web page in the current browser session.\u001b[39;00m\n\u001b[0;32m    446\u001b[0m \u001b[38;5;124;03m    \"\"\"\u001b[39;00m\n\u001b[1;32m--> 447\u001b[0m     \u001b[38;5;28;43mself\u001b[39;49m\u001b[38;5;241;43m.\u001b[39;49m\u001b[43mexecute\u001b[49m\u001b[43m(\u001b[49m\u001b[43mCommand\u001b[49m\u001b[38;5;241;43m.\u001b[39;49m\u001b[43mGET\u001b[49m\u001b[43m,\u001b[49m\u001b[43m \u001b[49m\u001b[43m{\u001b[49m\u001b[38;5;124;43m'\u001b[39;49m\u001b[38;5;124;43murl\u001b[39;49m\u001b[38;5;124;43m'\u001b[39;49m\u001b[43m:\u001b[49m\u001b[43m \u001b[49m\u001b[43murl\u001b[49m\u001b[43m}\u001b[49m\u001b[43m)\u001b[49m\n",
      "File \u001b[1;32m~\\AppData\\Local\\Programs\\Python\\Python310\\lib\\site-packages\\selenium\\webdriver\\remote\\webdriver.py:435\u001b[0m, in \u001b[0;36mWebDriver.execute\u001b[1;34m(self, driver_command, params)\u001b[0m\n\u001b[0;32m    433\u001b[0m response \u001b[38;5;241m=\u001b[39m \u001b[38;5;28mself\u001b[39m\u001b[38;5;241m.\u001b[39mcommand_executor\u001b[38;5;241m.\u001b[39mexecute(driver_command, params)\n\u001b[0;32m    434\u001b[0m \u001b[38;5;28;01mif\u001b[39;00m response:\n\u001b[1;32m--> 435\u001b[0m     \u001b[38;5;28;43mself\u001b[39;49m\u001b[38;5;241;43m.\u001b[39;49m\u001b[43merror_handler\u001b[49m\u001b[38;5;241;43m.\u001b[39;49m\u001b[43mcheck_response\u001b[49m\u001b[43m(\u001b[49m\u001b[43mresponse\u001b[49m\u001b[43m)\u001b[49m\n\u001b[0;32m    436\u001b[0m     response[\u001b[38;5;124m'\u001b[39m\u001b[38;5;124mvalue\u001b[39m\u001b[38;5;124m'\u001b[39m] \u001b[38;5;241m=\u001b[39m \u001b[38;5;28mself\u001b[39m\u001b[38;5;241m.\u001b[39m_unwrap_value(\n\u001b[0;32m    437\u001b[0m         response\u001b[38;5;241m.\u001b[39mget(\u001b[38;5;124m'\u001b[39m\u001b[38;5;124mvalue\u001b[39m\u001b[38;5;124m'\u001b[39m, \u001b[38;5;28;01mNone\u001b[39;00m))\n\u001b[0;32m    438\u001b[0m     \u001b[38;5;28;01mreturn\u001b[39;00m response\n",
      "File \u001b[1;32m~\\AppData\\Local\\Programs\\Python\\Python310\\lib\\site-packages\\selenium\\webdriver\\remote\\errorhandler.py:247\u001b[0m, in \u001b[0;36mErrorHandler.check_response\u001b[1;34m(self, response)\u001b[0m\n\u001b[0;32m    245\u001b[0m         alert_text \u001b[38;5;241m=\u001b[39m value[\u001b[38;5;124m'\u001b[39m\u001b[38;5;124malert\u001b[39m\u001b[38;5;124m'\u001b[39m]\u001b[38;5;241m.\u001b[39mget(\u001b[38;5;124m'\u001b[39m\u001b[38;5;124mtext\u001b[39m\u001b[38;5;124m'\u001b[39m)\n\u001b[0;32m    246\u001b[0m     \u001b[38;5;28;01mraise\u001b[39;00m exception_class(message, screen, stacktrace, alert_text)  \u001b[38;5;66;03m# type: ignore[call-arg]  # mypy is not smart enough here\u001b[39;00m\n\u001b[1;32m--> 247\u001b[0m \u001b[38;5;28;01mraise\u001b[39;00m exception_class(message, screen, stacktrace)\n",
      "\u001b[1;31mWebDriverException\u001b[0m: Message: unknown error: unexpected command response\n  (Session info: chrome=103.0.5060.114)\nStacktrace:\nBacktrace:\n\tOrdinal0 [0x005E6463+2188387]\n\tOrdinal0 [0x0057E461+1762401]\n\tOrdinal0 [0x00493D78+802168]\n\tOrdinal0 [0x00487210+750096]\n\tOrdinal0 [0x0048675A+747354]\n\tOrdinal0 [0x00485D3F+744767]\n\tOrdinal0 [0x0048557C+742780]\n\tOrdinal0 [0x00499BF3+826355]\n\tOrdinal0 [0x004ECF6D+1167213]\n\tOrdinal0 [0x004DC5F6+1099254]\n\tOrdinal0 [0x004B6BE0+945120]\n\tOrdinal0 [0x004B7AD6+948950]\n\tGetHandleVerifier [0x008871F2+2712546]\n\tGetHandleVerifier [0x0087886D+2652765]\n\tGetHandleVerifier [0x0067002A+520730]\n\tGetHandleVerifier [0x0066EE06+516086]\n\tOrdinal0 [0x0058468B+1787531]\n\tOrdinal0 [0x00588E88+1805960]\n\tOrdinal0 [0x00588F75+1806197]\n\tOrdinal0 [0x00591DF1+1842673]\n\tBaseThreadInitThunk [0x7711FA29+25]\n\tRtlGetAppContainerNamedObjectPath [0x77A47A9E+286]\n\tRtlGetAppContainerNamedObjectPath [0x77A47A6E+238]\n"
     ]
    }
   ],
   "source": [
    "character_list = []\n",
    "\n",
    "for book in books:\n",
    "    driver.get(book['url'])\n",
    "    \n",
    "    characters = driver.find_elements(By.CLASS_NAME, 'category-page__member-link')\n",
    "    \n",
    "    for elem in characters:\n",
    "        character_list.append({'book': book['book_name'], 'character': elem.text})"
   ]
  },
  {
   "cell_type": "code",
   "execution_count": 57,
   "id": "d4492e2c-925b-4968-b35e-bddf5054827d",
   "metadata": {
    "tags": []
   },
   "outputs": [
    {
     "data": {
      "text/html": [
       "<div>\n",
       "<style scoped>\n",
       "    .dataframe tbody tr th:only-of-type {\n",
       "        vertical-align: middle;\n",
       "    }\n",
       "\n",
       "    .dataframe tbody tr th {\n",
       "        vertical-align: top;\n",
       "    }\n",
       "\n",
       "    .dataframe thead th {\n",
       "        text-align: right;\n",
       "    }\n",
       "</style>\n",
       "<table border=\"1\" class=\"dataframe\">\n",
       "  <thead>\n",
       "    <tr style=\"text-align: right;\">\n",
       "      <th></th>\n",
       "      <th>book</th>\n",
       "      <th>character</th>\n",
       "    </tr>\n",
       "  </thead>\n",
       "  <tbody>\n",
       "    <tr>\n",
       "      <th>0</th>\n",
       "      <td>Category:Deceased individuals</td>\n",
       "      <td>Giffard Abbott</td>\n",
       "    </tr>\n",
       "    <tr>\n",
       "      <th>1</th>\n",
       "      <td>Category:Deceased individuals</td>\n",
       "      <td>Falco Aesalon</td>\n",
       "    </tr>\n",
       "    <tr>\n",
       "      <th>2</th>\n",
       "      <td>Category:Deceased individuals</td>\n",
       "      <td>Walter Aragon</td>\n",
       "    </tr>\n",
       "    <tr>\n",
       "      <th>3</th>\n",
       "      <td>Category:Deceased individuals</td>\n",
       "      <td>Podric Batworthy</td>\n",
       "    </tr>\n",
       "    <tr>\n",
       "      <th>4</th>\n",
       "      <td>Category:Deceased individuals</td>\n",
       "      <td>Angus Buchanan</td>\n",
       "    </tr>\n",
       "    <tr>\n",
       "      <th>...</th>\n",
       "      <td>...</td>\n",
       "      <td>...</td>\n",
       "    </tr>\n",
       "    <tr>\n",
       "      <th>168</th>\n",
       "      <td>Category:Individuals by ability</td>\n",
       "      <td>Category:Obscurials</td>\n",
       "    </tr>\n",
       "    <tr>\n",
       "      <th>169</th>\n",
       "      <td>Category:Individuals by ability</td>\n",
       "      <td>Category:Occlumens</td>\n",
       "    </tr>\n",
       "    <tr>\n",
       "      <th>170</th>\n",
       "      <td>Category:Individuals by ability</td>\n",
       "      <td>Category:Parselmouths</td>\n",
       "    </tr>\n",
       "    <tr>\n",
       "      <th>171</th>\n",
       "      <td>Category:Individuals by ability</td>\n",
       "      <td>Category:Seers</td>\n",
       "    </tr>\n",
       "    <tr>\n",
       "      <th>172</th>\n",
       "      <td>Category:Individuals by ability</td>\n",
       "      <td>Category:Spell inventors</td>\n",
       "    </tr>\n",
       "  </tbody>\n",
       "</table>\n",
       "<p>173 rows × 2 columns</p>\n",
       "</div>"
      ],
      "text/plain": [
       "                                book                 character\n",
       "0      Category:Deceased individuals            Giffard Abbott\n",
       "1      Category:Deceased individuals             Falco Aesalon\n",
       "2      Category:Deceased individuals             Walter Aragon\n",
       "3      Category:Deceased individuals          Podric Batworthy\n",
       "4      Category:Deceased individuals            Angus Buchanan\n",
       "..                               ...                       ...\n",
       "168  Category:Individuals by ability       Category:Obscurials\n",
       "169  Category:Individuals by ability        Category:Occlumens\n",
       "170  Category:Individuals by ability     Category:Parselmouths\n",
       "171  Category:Individuals by ability            Category:Seers\n",
       "172  Category:Individuals by ability  Category:Spell inventors\n",
       "\n",
       "[173 rows x 2 columns]"
      ]
     },
     "execution_count": 57,
     "metadata": {},
     "output_type": "execute_result"
    }
   ],
   "source": [
    "pd.DataFrame(character_list)"
   ]
  },
  {
   "cell_type": "code",
   "execution_count": 58,
   "id": "6684ca9d-e313-4548-b7ac-0aecf1834e72",
   "metadata": {
    "collapsed": true,
    "jupyter": {
     "outputs_hidden": true
    },
    "tags": []
   },
   "outputs": [
    {
     "name": "stdout",
     "output_type": "stream",
     "text": [
      "Requirement already satisfied: matplotlib in c:\\users\\lenovo\\appdata\\local\\programs\\python\\python310\\lib\\site-packages (3.5.2)\n",
      "Requirement already satisfied: python-dateutil>=2.7 in c:\\users\\lenovo\\appdata\\local\\programs\\python\\python310\\lib\\site-packages (from matplotlib) (2.8.2)\n",
      "Requirement already satisfied: pillow>=6.2.0 in c:\\users\\lenovo\\appdata\\local\\programs\\python\\python310\\lib\\site-packages (from matplotlib) (9.2.0)\n",
      "Requirement already satisfied: kiwisolver>=1.0.1 in c:\\users\\lenovo\\appdata\\local\\programs\\python\\python310\\lib\\site-packages (from matplotlib) (1.4.3)\n",
      "Requirement already satisfied: pyparsing>=2.2.1 in c:\\users\\lenovo\\appdata\\local\\programs\\python\\python310\\lib\\site-packages (from matplotlib) (3.0.9)\n",
      "Requirement already satisfied: fonttools>=4.22.0 in c:\\users\\lenovo\\appdata\\local\\programs\\python\\python310\\lib\\site-packages (from matplotlib) (4.34.4)\n",
      "Requirement already satisfied: numpy>=1.17 in c:\\users\\lenovo\\appdata\\local\\programs\\python\\python310\\lib\\site-packages (from matplotlib) (1.23.0)\n",
      "Requirement already satisfied: packaging>=20.0 in c:\\users\\lenovo\\appdata\\local\\programs\\python\\python310\\lib\\site-packages (from matplotlib) (21.3)\n",
      "Requirement already satisfied: cycler>=0.10 in c:\\users\\lenovo\\appdata\\local\\programs\\python\\python310\\lib\\site-packages (from matplotlib) (0.11.0)\n",
      "Requirement already satisfied: six>=1.5 in c:\\users\\lenovo\\appdata\\local\\programs\\python\\python310\\lib\\site-packages (from python-dateutil>=2.7->matplotlib) (1.16.0)\n"
     ]
    }
   ],
   "source": [
    "!pip install matplotlib\n"
   ]
  },
  {
   "cell_type": "code",
   "execution_count": 59,
   "id": "8ef5ffe1-17e7-42f5-94b8-5d4015c17ea6",
   "metadata": {
    "collapsed": true,
    "jupyter": {
     "outputs_hidden": true
    },
    "tags": []
   },
   "outputs": [
    {
     "data": {
      "image/png": "[encoded data removed]",
      "text/plain": [
       "<Figure size 432x288 with 1 Axes>"
      ]
     },
     "metadata": {
      "needs_background": "light"
     },
     "output_type": "display_data"
    }
   ],
   "source": [
    "import matplotlib.pyplot as plt\n",
    "\n",
    "character_df = pd.DataFrame(character_list)\n",
    "\n",
    "character_df['book'].value_counts().plot(kind = \"bar\")\n",
    "\n",
    "plt.show()"
   ]
  },
  {
   "cell_type": "code",
   "execution_count": 61,
   "id": "706fe7b4-de47-430b-b0ac-4aebd10779fa",
   "metadata": {},
   "outputs": [],
   "source": [
    "import csv\n",
    "character_df.to_csv(\"characters.csv\")"
   ]
  },
  {
   "cell_type": "code",
   "execution_count": null,
   "id": "ea596df1-cc0b-43d1-b19e-69f24ff18f9c",
   "metadata": {},
   "outputs": [],
   "source": []
  }
 ],
 "metadata": {
  "kernelspec": {
   "display_name": "Python 3 (ipykernel)",
   "language": "python",
   "name": "python3"
  },
  "language_info": {
   "codemirror_mode": {
    "name": "ipython",
    "version": 3
   },
   "file_extension": ".py",
   "mimetype": "text/x-python",
   "name": "python",
   "nbconvert_exporter": "python",
   "pygments_lexer": "ipython3",
   "version": "3.10.5"
  }
 },
 "nbformat": 4,
 "nbformat_minor": 5
}
